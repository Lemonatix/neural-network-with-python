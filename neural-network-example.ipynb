{
 "cells": [
  {
   "cell_type": "code",
   "execution_count": 15,
   "metadata": {},
   "outputs": [],
   "source": [
    "import numpy as np\n",
    "\n",
    "X = np.array([[0,0], [1,0], [0,1], [1,1]])\n",
    "Y = np.array([[0], [1], [1], [0]])"
   ]
  },
  {
   "cell_type": "markdown",
   "metadata": {},
   "source": [
    "In the following we need a helper function:\n",
    "$$\\sigma (z) = \\frac{1}{1+e^{-z}}= (1+e^{-z})^{-1}$$\n",
    "\n",
    "The derivative of that helper function is also quite important:\n",
    "$$\\frac{d}{dz} \\sigma =  \\sigma (z) \\cdot (1-\\sigma(z))$$\n",
    "\n",
    "This is a sigmoid activation function for the hidden and output layers."
   ]
  },
  {
   "cell_type": "code",
   "execution_count": 16,
   "metadata": {},
   "outputs": [],
   "source": [
    "def sigmoid(z):\n",
    "    return 1 / (1 + np.exp(-z))\n",
    "\n",
    "def sigmoid_derivative(z):\n",
    "    return sigmoid(z) * (1 - sigmoid(z))"
   ]
  },
  {
   "cell_type": "markdown",
   "metadata": {},
   "source": [
    "We also need a loss function. For simplicity the mean squared error function (MSE) is used: \n",
    "$$\\mathrm{MSE} = \\frac{1}{N} \\sum_i (y_{\\text{pred}, \\ i}-y_{\\text{true},\\ i })^2"
   ]
  },
  {
   "cell_type": "code",
   "execution_count": 17,
   "metadata": {},
   "outputs": [],
   "source": [
    "def mse_loss(Y_pred, Y_true):\n",
    "    return np.mean((Y_pred - Y_true) ** 2)"
   ]
  },
  {
   "cell_type": "markdown",
   "metadata": {},
   "source": [
    "For the example neural network, we can hand-select the number of hidden neurons. We will sse:\n",
    "\n",
    "2 input neurons\n",
    "2 neurons in one hidden layer\n",
    "1 output neuron\n",
    "\n",
    "We also need small random number weights and biases to zero or also small random values."
   ]
  },
  {
   "cell_type": "code",
   "execution_count": 18,
   "metadata": {},
   "outputs": [],
   "source": [
    "np.random.seed(42) # for reproducibility\n",
    "\n",
    "input_dim = 2\n",
    "hidden_dim = 2\n",
    "output_dim = 1\n",
    "\n",
    "W1 = np.random.randn(input_dim, hidden_dim) * 0.1   # Return a samples from the “standard normal” distribution.\n",
    "b1 = np.zeros((1, hidden_dim))\n",
    "\n",
    "W2 = np.random.randn(hidden_dim, output_dim)\n",
    "b2 = np.zeros((1, output_dim))"
   ]
  },
  {
   "cell_type": "markdown",
   "metadata": {},
   "source": [
    "Now we need to define forward- and backward propagation.\n",
    "\n",
    "For the forward propagation we have an input $X$ with the shape (N x 2):\n",
    "1. We compute hidden layers: $$Z_1 = XW_1 + b_1$$\n",
    "2. We apply activation (here the sigmoid): $$A_1 = \\sigma(Z_1)$$\n",
    "3. We compute the output layer: $$Z_2 = A_1 W_2 + b_2$$\n",
    "4. We apply the output activation: $$\\hat y = \\sigma(Z_2)$$"
   ]
  },
  {
   "cell_type": "code",
   "execution_count": 19,
   "metadata": {},
   "outputs": [],
   "source": [
    "def forward_propagation(X, W1, b1, W2, b2):\n",
    "    Z1 = np.dot(X, W1) + b1\n",
    "    A1 = sigmoid(Z1)\n",
    "    \n",
    "    Z2 = np.dot(A1, W2) + b2\n",
    "    Y_pred = sigmoid(Z2)\n",
    "    return Z1, A1, Z2, Y_pred"
   ]
  },
  {
   "cell_type": "markdown",
   "metadata": {},
   "source": [
    "As we now have forward propagation we need a backwards one too:\n",
    "1. We compute loss gradient $$\\frac{\\partial \\mathrm{Loss}}{\\partial \\hat y} = 2 \\cdot \\frac{(\\hat y - y)}{N}$$\n",
    "2. We calculate the gradient at the output layer $$\\delta_2 = \\frac{\\partial \\mathrm{Loss}}{\\partial \\hat y}\\cdot \\sigma'(Z_2)$$\n",
    "3. We calculate the gradient for the hidden layer: $$\\delta_1 = \\delta_2 W_2^T \\cdot \\sigma'(Z_1)$$\n",
    "4. Lastly we calculate the gradients with respect to the weights and biases $$\\begin{align} \\frac{\\partial \\mathrm{Loss}}{\\partial W_2} &= A_1^T \\delta_2 \\\\ \\frac{\\partial \\mathrm{Loss}}{\\partial b_2} & = \\sum_i \\delta_2 \\\\ \\frac{\\partial \\mathrm{Loss}}{\\partial W_1} &= X^T \\delta_1 \\\\ \\frac{\\partial \\mathrm{Loss}}{\\partial b_1} &= \\sum_i \\delta_1 \\end{align}$$"
   ]
  },
  {
   "cell_type": "code",
   "execution_count": 20,
   "metadata": {},
   "outputs": [],
   "source": [
    "def backward_propagation(X, Y, Z1, Z2, A1, Y_pred, W1, W2, b1, b2, learning_rate = 0.1):\n",
    "    N = X.shape[0] # number of samples\n",
    "\n",
    "    dLoss_y_pred = 2 * (Y_pred - Y) / N # 1.\n",
    "    dZ2 = dLoss_Y_pred * sigmoid_derivative(Z2) # 2.\n",
    "\n",
    "    #3.\n",
    "    dW2 = np.dot(A1.T, dZ2)\n",
    "    db2 = np.sum(dZ2, axis = 0, keepdims = True)\n",
    "    #4. \n",
    "    dA1 = np.dot(dZ2, W2.T)\n",
    "    dZ1 = dA1 * sigmoid_derivative(Z1)\n",
    "    #5.\n",
    "    dW1 = np.dot(X.T, dZ1)\n",
    "    db1 = np.sum(dZ1, axis = 0, keepdims = True)\n",
    "    #6. \n",
    "    W2 -= learning_rate * dW2\n",
    "    b2 -= learning_rate * db2\n",
    "    W1 -= learning_rate * dW1\n",
    "    b1 -= learning_rate * db1\n",
    "\n",
    "    return W1, W2, b1, b2"
   ]
  },
  {
   "cell_type": "markdown",
   "metadata": {},
   "source": [
    "Now the neural network should be ready to be trained, with a training loop:\n",
    "1. Forward propagation\n",
    "2. Compute loss\n",
    "3. Backpropagation\n",
    "4. Update parameters"
   ]
  },
  {
   "cell_type": "code",
   "execution_count": 21,
   "metadata": {},
   "outputs": [
    {
     "name": "stdout",
     "output_type": "stream",
     "text": [
      "W1 shape: (2, 2)\n",
      "b1 shape: (1, 2)\n",
      "Z1 shape: (4, 2)\n",
      "Epoch 0, Loss: 0.2536\n",
      "Epoch 1000, Loss: 0.2500\n",
      "Epoch 2000, Loss: 0.2500\n",
      "Epoch 3000, Loss: 0.2500\n",
      "Epoch 4000, Loss: 0.2500\n",
      "Epoch 5000, Loss: 0.2500\n",
      "Epoch 6000, Loss: 0.2500\n",
      "Epoch 7000, Loss: 0.2500\n",
      "Epoch 8000, Loss: 0.2500\n",
      "Epoch 9000, Loss: 0.2500\n"
     ]
    }
   ],
   "source": [
    "print(\"W1 shape:\", W1.shape)  # (2, 2)\n",
    "print(\"b1 shape:\", b1.shape)  # (1, 2)\n",
    "\n",
    "# Vorwärtsdurchlauf:\n",
    "Z1 = np.dot(X, W1) + b1\n",
    "print(\"Z1 shape:\", Z1.shape)  # (4, 2) bei 4 Datenpunkten\n",
    "\n",
    "\n",
    "epochs = 10000\n",
    "learning_rate = 0.1\n",
    "\n",
    "for epoch in range(epochs):\n",
    "    Z1, A1, Z2, Y_pred = forward_propagation(X, W1, b1, W2, b2)\n",
    "    loss = mse_loss(Y_pred, Y)\n",
    "    W1, b1, W2, b2 = backpropagation(X, Y, Z1, A1, Z2, Y_pred,\n",
    "                                    W1, b1, W2, b2,\n",
    "                                    lr=learning_rate)\n",
    "    if epoch % 1000 == 0:\n",
    "        print(f\"Epoch {epoch}, Loss: {loss:.4f}\")"
   ]
  },
  {
   "cell_type": "markdown",
   "metadata": {},
   "source": [
    "Now we test the neural network..."
   ]
  },
  {
   "cell_type": "code",
   "execution_count": 22,
   "metadata": {},
   "outputs": [
    {
     "name": "stdout",
     "output_type": "stream",
     "text": [
      "Final Predictions (rounded):\n",
      "[[0.501]\n",
      " [0.501]\n",
      " [0.499]\n",
      " [0.499]]\n",
      "True Y:\n",
      "[[0]\n",
      " [1]\n",
      " [1]\n",
      " [0]]\n"
     ]
    }
   ],
   "source": [
    "_, _, _, Y_pred = forward_propagation(X, W1, b1, W2, b2)\n",
    "print(\"Final Predictions (rounded):\")\n",
    "print(Y_pred.round(3))\n",
    "print(\"True Y:\")\n",
    "print(Y)"
   ]
  }
 ],
 "metadata": {
  "kernelspec": {
   "display_name": "Python 3",
   "language": "python",
   "name": "python3"
  },
  "language_info": {
   "codemirror_mode": {
    "name": "ipython",
    "version": 3
   },
   "file_extension": ".py",
   "mimetype": "text/x-python",
   "name": "python",
   "nbconvert_exporter": "python",
   "pygments_lexer": "ipython3",
   "version": "3.13.1"
  }
 },
 "nbformat": 4,
 "nbformat_minor": 2
}
